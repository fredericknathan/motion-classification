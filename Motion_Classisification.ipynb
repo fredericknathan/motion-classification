{
  "cells": [
    {
      "cell_type": "code",
      "execution_count": null,
      "metadata": {
        "id": "Z_WVP06Dr3gr"
      },
      "outputs": [],
      "source": [
        "!pip install mediapipe"
      ]
    },
    {
      "cell_type": "code",
      "execution_count": null,
      "metadata": {
        "id": "5P8S99d1-quq"
      },
      "outputs": [],
      "source": [
        "import tensorflow as tf\n",
        "from sklearn.preprocessing import LabelEncoder\n",
        "from tensorflow.keras.models import Sequential\n",
        "from tensorflow.keras.layers import LSTM, Dense\n",
        "from sklearn.model_selection import train_test_split\n",
        "from tensorflow.keras.utils import to_categorical\n",
        "from tensorflow.keras.callbacks import EarlyStopping, ReduceLROnPlateau\n",
        "from tensorflow.keras.layers import Bidirectional, Dropout"
      ]
    },
    {
      "cell_type": "code",
      "execution_count": null,
      "metadata": {
        "id": "Q56QWvymyN56"
      },
      "outputs": [],
      "source": [
        "import os\n",
        "import cv2\n",
        "import numpy as np\n",
        "import mediapipe as mp\n",
        "import time"
      ]
    },
    {
      "cell_type": "markdown",
      "metadata": {
        "id": "6flRymdaIf0n"
      },
      "source": [
        "# Key Points Extraction\n"
      ]
    },
    {
      "cell_type": "code",
      "execution_count": null,
      "metadata": {
        "id": "EL9eiai8I1gs"
      },
      "outputs": [],
      "source": [
        "mp_holistic = mp.solutions.holistic\n",
        "holistic = mp_holistic.Holistic()\n",
        "\n",
        "def extract_keypoints(frame):\n",
        "    rgb_frame = cv2.cvtColor(frame, cv2.COLOR_BGR2RGB)\n",
        "    results = holistic.process(rgb_frame)\n",
        "\n",
        "    keypoints = []\n",
        "    if results.pose_landmarks:\n",
        "        for landmark in results.pose_landmarks.landmark:\n",
        "            keypoints.append([landmark.x, landmark.y, landmark.z])\n",
        "    else:\n",
        "        return None\n",
        "\n",
        "    return np.array(keypoints)"
      ]
    },
    {
      "cell_type": "code",
      "execution_count": null,
      "metadata": {
        "id": "IG6hfHWE7qmQ"
      },
      "outputs": [],
      "source": [
        "def normalize_single_frame_keypoints(keypoints):\n",
        "    min_val = np.min(keypoints, axis=0)\n",
        "    max_val = np.max(keypoints, axis=0)\n",
        "\n",
        "    scale = np.where(max_val - min_val == 0, 1, max_val - min_val)\n",
        "\n",
        "    normalized_keypoints = (keypoints - min_val) / scale\n",
        "\n",
        "    return normalized_keypoints"
      ]
    },
    {
      "cell_type": "code",
      "execution_count": null,
      "metadata": {
        "id": "_NnQwoDYIfXI"
      },
      "outputs": [],
      "source": [
        "def create_sequences_with_keypoints(video_path, folder_name, sequence_length):\n",
        "    cap = cv2.VideoCapture(video_path)\n",
        "\n",
        "    fps = cap.get(cv2.CAP_PROP_FPS)\n",
        "    frame_skip_interval = int(round(fps / 15))\n",
        "\n",
        "    keypoints_list = []\n",
        "    frame_count = 0\n",
        "    while cap.isOpened():\n",
        "        ret, frame = cap.read()\n",
        "        if not ret:\n",
        "            break\n",
        "\n",
        "        if frame_count % frame_skip_interval == 0:\n",
        "          keypoints = extract_keypoints(frame)\n",
        "          if keypoints is None:\n",
        "            continue\n",
        "          normalized_keypoints = normalize_single_frame_keypoints(keypoints)\n",
        "          keypoints_list.append(normalized_keypoints.flatten())\n",
        "        frame_count += 1\n",
        "\n",
        "    cap.release()\n",
        "\n",
        "    X_sequences = []\n",
        "    y_labels = []\n",
        "    for i in range(len(keypoints_list) - sequence_length + 1):\n",
        "        sequence = keypoints_list[i:i + sequence_length]\n",
        "        X_sequences.append(sequence)\n",
        "        y_labels.append(np.array([folder_name]))\n",
        "\n",
        "    return np.array(X_sequences), np.array(y_labels)"
      ]
    },
    {
      "cell_type": "code",
      "execution_count": null,
      "metadata": {
        "id": "9DLqoStQJivi"
      },
      "outputs": [],
      "source": [
        "%%time\n",
        "path = '/content/drive/MyDrive/KTH/All Videos'\n",
        "\n",
        "x_sequences = []\n",
        "y_sequences = []\n",
        "num = 0\n",
        "\n",
        "for class_folder in os.listdir(path):\n",
        "    video_path = os.path.join(path, class_folder)\n",
        "\n",
        "    for filename in os.listdir(video_path):\n",
        "        video = os.path.join(video_path, filename)\n",
        "        num += 1\n",
        "        print(f'Video {num}/600')\n",
        "        X_add, y_add = create_sequences_with_keypoints(video, class_folder, 15, pose)\n",
        "        x_sequences.extend(X_add)\n",
        "        y_sequences.extend(y_add)\n",
        "\n",
        "save_path_x = '/content/drive/MyDrive/KTH/x_sequences_connections.npy'\n",
        "save_path_y = '/content/drive/MyDrive/KTH/y_sequences_connections.npy'\n",
        "\n",
        "np.save(save_path_x, x_sequences)\n",
        "np.save(save_path_y, y_sequences)"
      ]
    },
    {
      "cell_type": "markdown",
      "source": [
        "# Frame Extraction (without MediaPipe)"
      ],
      "metadata": {
        "id": "xMLHyexhpagb"
      }
    },
    {
      "cell_type": "code",
      "source": [
        "mp_holistic = mp.solutions.holistic\n",
        "holistic = mp_holistic.Holistic()\n",
        "\n",
        "def have_keypoints(frame):\n",
        "    rgb_frame = cv2.cvtColor(frame, cv2.COLOR_BGR2RGB)\n",
        "    results = holistic.process(rgb_frame)\n",
        "\n",
        "    if results.pose_landmarks:\n",
        "      return True\n",
        "    else:\n",
        "      return False"
      ],
      "metadata": {
        "id": "x05nAlj4r8pA"
      },
      "execution_count": null,
      "outputs": []
    },
    {
      "cell_type": "code",
      "source": [
        "def create_sequences(video_path, folder_name, sequence_length):\n",
        "    cap = cv2.VideoCapture(video_path)\n",
        "\n",
        "    fps = cap.get(cv2.CAP_PROP_FPS)\n",
        "    frame_skip_interval = int(round(fps / 15))\n",
        "\n",
        "    frames_list = []\n",
        "    frame_count = 0\n",
        "    while cap.isOpened():\n",
        "        ret, frame = cap.read()\n",
        "        if not ret:\n",
        "            break\n",
        "\n",
        "        if frame_count % frame_skip_interval == 0:\n",
        "          # keypoints = have_keypoints(frame)\n",
        "          # if keypoints is True:\n",
        "          #   continue\n",
        "          normalized_keypoints = frame.astype('float32') / 255.0\n",
        "          frames_list.append(normalized_keypoints.flatten())\n",
        "        frame_count += 1\n",
        "\n",
        "    cap.release()\n",
        "\n",
        "    X_sequences = []\n",
        "    y_labels = []\n",
        "    for i in range(len(frames_list) - sequence_length + 1):\n",
        "        sequence = frames_list[i:i + sequence_length]\n",
        "        X_sequences.append(sequence)\n",
        "        y_labels.append(np.array([folder_name]))\n",
        "\n",
        "    return np.array(X_sequences), np.array(y_labels)"
      ],
      "metadata": {
        "id": "P5oVB_CBphHy"
      },
      "execution_count": null,
      "outputs": []
    },
    {
      "cell_type": "code",
      "source": [
        "path = '/content/drive/MyDrive/KTH/All Videos'\n",
        "\n",
        "x_sequences = []\n",
        "y_sequences = []\n",
        "num = 0\n",
        "\n",
        "for class_folder in os.listdir(path):\n",
        "    video_path = os.path.join(path, class_folder)\n",
        "\n",
        "    for filename in os.listdir(video_path):\n",
        "        video = os.path.join(video_path, filename)\n",
        "        num += 1\n",
        "        print(f'Video {num}/600')\n",
        "        X_add, y_add = create_sequences(video, class_folder, 15)\n",
        "        x_sequences.extend(X_add)\n",
        "        y_sequences.extend(y_add)\n",
        "\n",
        "save_path_x = '/content/drive/MyDrive/KTH/x_sequences_frames.npy'\n",
        "save_path_y = '/content/drive/MyDrive/KTH/y_sequences_frames.npy'\n",
        "\n",
        "np.save(save_path_x, x_sequences)\n",
        "np.save(save_path_y, y_sequences)"
      ],
      "metadata": {
        "colab": {
          "base_uri": "https://localhost:8080/"
        },
        "id": "jyI-hSa7pvWS",
        "outputId": "7522d282-de99-4280-ac6a-98cfca6e3c18"
      },
      "execution_count": null,
      "outputs": [
        {
          "output_type": "stream",
          "name": "stdout",
          "text": [
            "Video 1/600\n",
            "Video 2/600\n",
            "Video 3/600\n"
          ]
        }
      ]
    },
    {
      "cell_type": "markdown",
      "metadata": {
        "id": "VAK2KI6b6EYn"
      },
      "source": [
        "# Preprocess"
      ]
    },
    {
      "cell_type": "code",
      "execution_count": null,
      "metadata": {
        "id": "6n8bFqACn9g8"
      },
      "outputs": [],
      "source": [
        "x_sequences = np.load(\"/content/drive/MyDrive/KTH/x_sequences_no0.npy\")\n",
        "y_sequences = np.load('/content/drive/MyDrive/KTH/y_sequences_no0.npy')"
      ]
    },
    {
      "cell_type": "code",
      "source": [
        "x_sequences.shape[0]"
      ],
      "metadata": {
        "id": "ok-QPS8W6XQI",
        "colab": {
          "base_uri": "https://localhost:8080/"
        },
        "outputId": "94eab61f-155e-4b94-dc3c-74be8fbebb4c"
      },
      "execution_count": null,
      "outputs": [
        {
          "output_type": "execute_result",
          "data": {
            "text/plain": [
              "89755"
            ]
          },
          "metadata": {},
          "execution_count": 7
        }
      ]
    },
    {
      "cell_type": "code",
      "execution_count": null,
      "metadata": {
        "id": "ibQpeygr-n6p"
      },
      "outputs": [],
      "source": [
        "y_sequences_flat = np.concatenate(y_sequences)"
      ]
    },
    {
      "cell_type": "code",
      "execution_count": null,
      "metadata": {
        "id": "PirQk10a-9CB"
      },
      "outputs": [],
      "source": [
        "label_encoder = LabelEncoder()\n",
        "integer_encoded = label_encoder.fit_transform(y_sequences_flat)\n",
        "onehot_encoded = to_categorical(integer_encoded)"
      ]
    },
    {
      "cell_type": "code",
      "execution_count": null,
      "metadata": {
        "id": "oVl60_RDEDcw"
      },
      "outputs": [],
      "source": [
        "from sklearn.model_selection import train_test_split\n",
        "\n",
        "X_train, X_test, y_train, y_test = train_test_split(\n",
        "    np.array(x_sequences), onehot_encoded, test_size=0.2, random_state=42\n",
        ")"
      ]
    },
    {
      "cell_type": "code",
      "execution_count": null,
      "metadata": {
        "id": "_1dQST1FNmB4"
      },
      "outputs": [],
      "source": [
        "x_sequences = 0\n",
        "y_sequences = 0"
      ]
    },
    {
      "cell_type": "markdown",
      "metadata": {
        "id": "gbvb-k2j6z98"
      },
      "source": [
        "# Transformer Encoder"
      ]
    },
    {
      "cell_type": "code",
      "execution_count": null,
      "metadata": {
        "id": "gzgW3Hmrb5rm"
      },
      "outputs": [],
      "source": [
        "import tensorflow as tf\n",
        "from tensorflow.keras import layers, Model\n",
        "from tensorflow.keras.layers import Dense, Input, GlobalAveragePooling1D, Dropout, BatchNormalization, Activation\n",
        "\n",
        "class PositionalEmbedding(layers.Layer):\n",
        "    def __init__(self, sequence_size, output_dim, **kwargs):\n",
        "        super(PositionalEmbedding, self).__init__(**kwargs)\n",
        "        self.pos_emb = layers.Embedding(input_dim=sequence_size, output_dim=output_dim)\n",
        "\n",
        "    def call(self, x):\n",
        "        length = tf.shape(x)[1]\n",
        "        positions = tf.range(start=0, limit=length, delta=1)\n",
        "        positions = self.pos_emb(positions)\n",
        "        return x + positions\n",
        "\n",
        "class TransformerEncoder(layers.Layer):\n",
        "    def __init__(self, embed_dim, num_heads, ff_dim, rate=0.1):\n",
        "        super(TransformerEncoder, self).__init__()\n",
        "        self.att = layers.MultiHeadAttention(num_heads=num_heads, key_dim=embed_dim)\n",
        "        self.ffn = tf.keras.Sequential(\n",
        "            [layers.Dense(ff_dim, activation=\"relu\"), layers.Dense(embed_dim),]\n",
        "        )\n",
        "        self.layernorm1 = layers.LayerNormalization(epsilon=1e-6)\n",
        "        self.layernorm2 = layers.LayerNormalization(epsilon=1e-6)\n",
        "        self.dropout1 = layers.Dropout(rate)\n",
        "        self.dropout2 = layers.Dropout(rate)\n",
        "\n",
        "    def call(self, inputs, training=False):\n",
        "        attn_output = self.att(inputs, inputs)\n",
        "        attn_output = self.dropout1(attn_output, training=training)\n",
        "        out1 = self.layernorm1(inputs + attn_output)\n",
        "\n",
        "        ffn_output = self.ffn(out1)\n",
        "        ffn_output = self.dropout2(ffn_output, training=training)\n",
        "        return self.layernorm2(out1 + ffn_output)\n",
        "\n",
        "def build_vit_classifier(num_patches, embed_dim, num_heads, ff_dim, num_layers, num_classes):\n",
        "    inputs = tf.keras.Input(shape=(num_patches, embed_dim))\n",
        "    x = inputs\n",
        "\n",
        "    for _ in range(num_layers):\n",
        "      x = PositionalEmbedding(num_patches, embed_dim)(inputs)\n",
        "      x = TransformerEncoder(embed_dim, num_heads, ff_dim)(x)\n",
        "\n",
        "    x = GlobalAveragePooling1D()(x)\n",
        "    outputs = Dense(num_classes, activation=\"softmax\")(x)\n",
        "    return tf.keras.Model(inputs=inputs, outputs=outputs)"
      ]
    },
    {
      "cell_type": "code",
      "execution_count": null,
      "metadata": {
        "id": "omus8dmp_OM_"
      },
      "outputs": [],
      "source": [
        "num_patches = 15\n",
        "embed_dim = 99\n",
        "num_heads = 12\n",
        "ff_dim = 300\n",
        "num_classes = 6\n",
        "num_layers = 4\n",
        "\n",
        "model = build_vit_classifier(num_patches, embed_dim, num_heads, ff_dim, num_layers, num_classes)\n",
        "optimizer = tf.keras.optimizers.RMSprop(learning_rate=1e-5)\n",
        "model.compile(optimizer=optimizer, loss=\"categorical_crossentropy\", metrics=[\"accuracy\"])"
      ]
    },
    {
      "cell_type": "code",
      "execution_count": null,
      "metadata": {
        "colab": {
          "base_uri": "https://localhost:8080/"
        },
        "id": "PN8OJIlG_lRV",
        "outputId": "d94994f2-9821-4feb-ae23-d44089b45c48"
      },
      "outputs": [
        {
          "output_type": "stream",
          "name": "stdout",
          "text": [
            "Epoch 1/50\n",
            "1010/1010 [==============================] - 14s 10ms/step - loss: 0.6514 - accuracy: 0.7955 - val_loss: 0.3173 - val_accuracy: 0.9006\n",
            "Epoch 2/50\n",
            "1010/1010 [==============================] - 10s 10ms/step - loss: 0.2822 - accuracy: 0.9061 - val_loss: 0.2116 - val_accuracy: 0.9227\n",
            "Epoch 3/50\n",
            "1010/1010 [==============================] - 10s 10ms/step - loss: 0.2104 - accuracy: 0.9235 - val_loss: 0.1702 - val_accuracy: 0.9371\n",
            "Epoch 4/50\n",
            "1010/1010 [==============================] - 9s 9ms/step - loss: 0.1783 - accuracy: 0.9327 - val_loss: 0.1493 - val_accuracy: 0.9421\n",
            "Epoch 5/50\n",
            "1010/1010 [==============================] - 10s 10ms/step - loss: 0.1594 - accuracy: 0.9395 - val_loss: 0.1362 - val_accuracy: 0.9474\n",
            "Epoch 6/50\n",
            "1010/1010 [==============================] - 10s 10ms/step - loss: 0.1462 - accuracy: 0.9440 - val_loss: 0.1266 - val_accuracy: 0.9501\n",
            "Epoch 7/50\n",
            "1010/1010 [==============================] - 10s 10ms/step - loss: 0.1363 - accuracy: 0.9479 - val_loss: 0.1186 - val_accuracy: 0.9528\n",
            "Epoch 8/50\n",
            "1010/1010 [==============================] - 9s 9ms/step - loss: 0.1279 - accuracy: 0.9517 - val_loss: 0.1114 - val_accuracy: 0.9554\n",
            "Epoch 9/50\n",
            "1010/1010 [==============================] - 10s 10ms/step - loss: 0.1212 - accuracy: 0.9543 - val_loss: 0.1054 - val_accuracy: 0.9592\n",
            "Epoch 10/50\n",
            "1010/1010 [==============================] - 10s 10ms/step - loss: 0.1143 - accuracy: 0.9578 - val_loss: 0.1017 - val_accuracy: 0.9599\n",
            "Epoch 11/50\n",
            "1010/1010 [==============================] - 10s 10ms/step - loss: 0.1087 - accuracy: 0.9598 - val_loss: 0.0959 - val_accuracy: 0.9623\n",
            "Epoch 12/50\n",
            "1010/1010 [==============================] - 9s 9ms/step - loss: 0.1038 - accuracy: 0.9618 - val_loss: 0.0903 - val_accuracy: 0.9645\n",
            "Epoch 13/50\n",
            "1010/1010 [==============================] - 11s 11ms/step - loss: 0.0994 - accuracy: 0.9642 - val_loss: 0.0991 - val_accuracy: 0.9603\n",
            "Epoch 14/50\n",
            "1010/1010 [==============================] - 10s 10ms/step - loss: 0.0945 - accuracy: 0.9671 - val_loss: 0.0937 - val_accuracy: 0.9625\n",
            "Epoch 15/50\n",
            "1010/1010 [==============================] - 9s 9ms/step - loss: 0.0908 - accuracy: 0.9678 - val_loss: 0.0816 - val_accuracy: 0.9692\n",
            "Epoch 16/50\n",
            "1010/1010 [==============================] - 9s 9ms/step - loss: 0.0876 - accuracy: 0.9688 - val_loss: 0.0773 - val_accuracy: 0.9733\n",
            "Epoch 17/50\n",
            "1010/1010 [==============================] - 10s 10ms/step - loss: 0.0838 - accuracy: 0.9709 - val_loss: 0.0790 - val_accuracy: 0.9699\n",
            "Epoch 18/50\n",
            "1010/1010 [==============================] - 10s 10ms/step - loss: 0.0811 - accuracy: 0.9724 - val_loss: 0.0720 - val_accuracy: 0.9738\n",
            "Epoch 19/50\n",
            "1010/1010 [==============================] - 9s 9ms/step - loss: 0.0785 - accuracy: 0.9728 - val_loss: 0.0699 - val_accuracy: 0.9749\n",
            "Epoch 20/50\n",
            "1010/1010 [==============================] - 10s 10ms/step - loss: 0.0758 - accuracy: 0.9740 - val_loss: 0.0707 - val_accuracy: 0.9765\n",
            "Epoch 21/50\n",
            "1010/1010 [==============================] - 10s 10ms/step - loss: 0.0734 - accuracy: 0.9746 - val_loss: 0.0662 - val_accuracy: 0.9758\n",
            "Epoch 22/50\n",
            "1010/1010 [==============================] - 10s 10ms/step - loss: 0.0714 - accuracy: 0.9753 - val_loss: 0.0649 - val_accuracy: 0.9773\n",
            "Epoch 23/50\n",
            "1010/1010 [==============================] - 9s 9ms/step - loss: 0.0690 - accuracy: 0.9769 - val_loss: 0.0625 - val_accuracy: 0.9772\n",
            "Epoch 24/50\n",
            "1010/1010 [==============================] - 10s 10ms/step - loss: 0.0671 - accuracy: 0.9769 - val_loss: 0.0612 - val_accuracy: 0.9777\n",
            "Epoch 25/50\n",
            "1010/1010 [==============================] - 10s 10ms/step - loss: 0.0658 - accuracy: 0.9775 - val_loss: 0.0596 - val_accuracy: 0.9808\n",
            "Epoch 26/50\n",
            "1010/1010 [==============================] - 10s 9ms/step - loss: 0.0639 - accuracy: 0.9784 - val_loss: 0.0579 - val_accuracy: 0.9801\n",
            "Epoch 27/50\n",
            "1010/1010 [==============================] - 9s 9ms/step - loss: 0.0624 - accuracy: 0.9794 - val_loss: 0.0580 - val_accuracy: 0.9786\n",
            "Epoch 28/50\n",
            "1010/1010 [==============================] - 10s 10ms/step - loss: 0.0607 - accuracy: 0.9799 - val_loss: 0.0612 - val_accuracy: 0.9760\n",
            "Epoch 29/50\n",
            "1010/1010 [==============================] - 10s 10ms/step - loss: 0.0596 - accuracy: 0.9805 - val_loss: 0.0558 - val_accuracy: 0.9798\n",
            "Epoch 30/50\n",
            "1010/1010 [==============================] - 9s 9ms/step - loss: 0.0576 - accuracy: 0.9811 - val_loss: 0.0533 - val_accuracy: 0.9820\n",
            "Epoch 31/50\n",
            "1010/1010 [==============================] - 10s 10ms/step - loss: 0.0571 - accuracy: 0.9814 - val_loss: 0.0551 - val_accuracy: 0.9798\n",
            "Epoch 32/50\n",
            "1010/1010 [==============================] - 10s 10ms/step - loss: 0.0562 - accuracy: 0.9811 - val_loss: 0.0514 - val_accuracy: 0.9826\n",
            "Epoch 33/50\n",
            "1010/1010 [==============================] - 10s 10ms/step - loss: 0.0546 - accuracy: 0.9822 - val_loss: 0.0502 - val_accuracy: 0.9830\n",
            "Epoch 34/50\n",
            "1010/1010 [==============================] - 9s 9ms/step - loss: 0.0540 - accuracy: 0.9821 - val_loss: 0.0510 - val_accuracy: 0.9813\n",
            "Epoch 35/50\n",
            "1010/1010 [==============================] - 10s 10ms/step - loss: 0.0528 - accuracy: 0.9827 - val_loss: 0.0587 - val_accuracy: 0.9774\n",
            "Epoch 36/50\n",
            "1010/1010 [==============================] - 10s 10ms/step - loss: 0.0522 - accuracy: 0.9828 - val_loss: 0.0500 - val_accuracy: 0.9826\n",
            "Epoch 37/50\n",
            "1010/1010 [==============================] - 9s 9ms/step - loss: 0.0512 - accuracy: 0.9827 - val_loss: 0.0496 - val_accuracy: 0.9826\n",
            "Epoch 38/50\n",
            "1010/1010 [==============================] - 10s 9ms/step - loss: 0.0499 - accuracy: 0.9833 - val_loss: 0.0472 - val_accuracy: 0.9825\n",
            "Epoch 39/50\n",
            "1010/1010 [==============================] - 10s 10ms/step - loss: 0.0492 - accuracy: 0.9834 - val_loss: 0.0497 - val_accuracy: 0.9826\n",
            "Epoch 40/50\n",
            "1010/1010 [==============================] - 10s 10ms/step - loss: 0.0485 - accuracy: 0.9840 - val_loss: 0.0472 - val_accuracy: 0.9847\n",
            "Epoch 41/50\n",
            "1010/1010 [==============================] - 9s 9ms/step - loss: 0.0474 - accuracy: 0.9845 - val_loss: 0.0469 - val_accuracy: 0.9819\n",
            "Epoch 42/50\n",
            "1010/1010 [==============================] - 10s 10ms/step - loss: 0.0473 - accuracy: 0.9844 - val_loss: 0.0442 - val_accuracy: 0.9850\n",
            "Epoch 43/50\n",
            "1010/1010 [==============================] - 10s 9ms/step - loss: 0.0463 - accuracy: 0.9845 - val_loss: 0.0460 - val_accuracy: 0.9838\n",
            "Epoch 44/50\n",
            "1010/1010 [==============================] - 9s 9ms/step - loss: 0.0456 - accuracy: 0.9848 - val_loss: 0.0445 - val_accuracy: 0.9838\n",
            "Epoch 45/50\n",
            "1010/1010 [==============================] - 10s 9ms/step - loss: 0.0449 - accuracy: 0.9855 - val_loss: 0.0438 - val_accuracy: 0.9848\n",
            "Epoch 46/50\n",
            "1010/1010 [==============================] - 10s 10ms/step - loss: 0.0446 - accuracy: 0.9853 - val_loss: 0.0426 - val_accuracy: 0.9857\n",
            "Epoch 47/50\n",
            "1010/1010 [==============================] - 10s 10ms/step - loss: 0.0439 - accuracy: 0.9858 - val_loss: 0.0420 - val_accuracy: 0.9859\n",
            "Epoch 48/50\n",
            "1010/1010 [==============================] - 9s 9ms/step - loss: 0.0434 - accuracy: 0.9855 - val_loss: 0.0419 - val_accuracy: 0.9854\n",
            "Epoch 49/50\n",
            "1010/1010 [==============================] - 10s 10ms/step - loss: 0.0426 - accuracy: 0.9861 - val_loss: 0.0413 - val_accuracy: 0.9859\n",
            "Epoch 50/50\n",
            "1010/1010 [==============================] - 10s 10ms/step - loss: 0.0420 - accuracy: 0.9863 - val_loss: 0.0425 - val_accuracy: 0.9847\n"
          ]
        }
      ],
      "source": [
        "history = model.fit(X_train, y_train, validation_split=0.1, batch_size=64, epochs=50)"
      ]
    },
    {
      "cell_type": "code",
      "execution_count": null,
      "metadata": {
        "id": "eKIMPPAAHXzo"
      },
      "outputs": [],
      "source": [
        "model.save('/content/drive/MyDrive/KTH/Models/TransformerEncoder_0.001_75', save_format='tf')"
      ]
    },
    {
      "cell_type": "code",
      "execution_count": null,
      "metadata": {
        "colab": {
          "base_uri": "https://localhost:8080/",
          "height": 472
        },
        "id": "bP2NMgEB_qAp",
        "outputId": "ae1411b7-7942-4d3b-cf8a-2738d45ae8d0"
      },
      "outputs": [
        {
          "output_type": "display_data",
          "data": {
            "text/plain": [
              "<Figure size 640x480 with 1 Axes>"
            ],
            "image/png": "[encoded data removed]"
          },
          "metadata": {}
        }
      ],
      "source": [
        "import matplotlib.pyplot as plt\n",
        "\n",
        "plt.plot(history.history['loss'])\n",
        "plt.plot(history.history['val_loss'])\n",
        "plt.title('Transformer Encoder loss')\n",
        "plt.ylabel('Loss')\n",
        "plt.xlabel('Epoch')\n",
        "plt.legend(['Train', 'Validation'], loc='upper left')\n",
        "plt.show()"
      ]
    },
    {
      "cell_type": "code",
      "execution_count": null,
      "metadata": {
        "colab": {
          "base_uri": "https://localhost:8080/"
        },
        "id": "Dfx0XR-i_qAq",
        "outputId": "cd134aba-9ada-4ef0-949a-c1b4be28d2d7"
      },
      "outputs": [
        {
          "name": "stdout",
          "output_type": "stream",
          "text": [
            "561/561 [==============================] - 3s 5ms/step - loss: 7.1987e-04 - accuracy: 0.9998\n"
          ]
        },
        {
          "data": {
            "text/plain": [
              "[0.0007198722450993955, 0.9997771978378296]"
            ]
          },
          "execution_count": 46,
          "metadata": {},
          "output_type": "execute_result"
        }
      ],
      "source": [
        "model.evaluate(X_test, y_test)"
      ]
    },
    {
      "cell_type": "code",
      "execution_count": null,
      "metadata": {
        "colab": {
          "base_uri": "https://localhost:8080/"
        },
        "id": "JbR5Zyw5_qAq",
        "outputId": "e5b295b3-113a-4daa-91fd-03f58de92f10"
      },
      "outputs": [
        {
          "name": "stdout",
          "output_type": "stream",
          "text": [
            "561/561 [==============================] - 3s 6ms/step\n",
            "Accuracy: 99.978%\n",
            "Precision: 99.954%\n",
            "Recall: 99.944%\n",
            "F1 Score: 99.949%\n"
          ]
        }
      ],
      "source": [
        "from sklearn.metrics import accuracy_score, precision_score, recall_score, f1_score\n",
        "\n",
        "predictions = model.predict(X_test)\n",
        "predicted_classes = np.argmax(predictions, axis=1)\n",
        "y_test_classes = np.argmax(y_test, axis=1)\n",
        "\n",
        "accuracy = accuracy_score(y_test_classes, predicted_classes)\n",
        "precision = precision_score(y_test_classes, predicted_classes, average='macro')\n",
        "recall = recall_score(y_test_classes, predicted_classes, average='macro')\n",
        "f1 = f1_score(y_test_classes, predicted_classes, average='macro')\n",
        "\n",
        "print(f\"Accuracy: {accuracy * 100:.3f}%\")\n",
        "print(f\"Precision: {precision * 100:.3f}%\")\n",
        "print(f\"Recall: {recall * 100:.3f}%\")\n",
        "print(f\"F1 Score: {f1 * 100:.3f}%\")"
      ]
    },
    {
      "cell_type": "code",
      "execution_count": null,
      "metadata": {
        "colab": {
          "base_uri": "https://localhost:8080/",
          "height": 795
        },
        "id": "URT1aetI_qAq",
        "outputId": "cd0c87d0-e099-4d27-86db-dca9e9cf6336"
      },
      "outputs": [
        {
          "output_type": "stream",
          "name": "stdout",
          "text": [
            "561/561 [==============================] - 2s 4ms/step\n",
            "[[4131    0    1    0    0    0]\n",
            " [   0 3919    0    0    0    0]\n",
            " [   0    0 5078    0    0    0]\n",
            " [   0    0    0 1486    0    0]\n",
            " [   0    0    0    3  811    0]\n",
            " [   0    0    0    0    0 2522]]\n"
          ]
        },
        {
          "output_type": "display_data",
          "data": {
            "text/plain": [
              "<Figure size 1000x700 with 2 Axes>"
            ],
            "image/png": "[encoded data removed]"
          },
          "metadata": {}
        }
      ],
      "source": [
        "predictions = model.predict(X_test)\n",
        "predicted_classes = np.argmax(predictions, axis=1)\n",
        "\n",
        "from sklearn.metrics import confusion_matrix\n",
        "import matplotlib.pyplot as plt\n",
        "import seaborn as sns\n",
        "\n",
        "\n",
        "if len(y_test.shape) > 1 and y_test.shape[1] > 1:\n",
        "    true_classes = np.argmax(y_test, axis=1)\n",
        "else:\n",
        "    true_classes = y_test\n",
        "\n",
        "\n",
        "cm = confusion_matrix(true_classes, predicted_classes)\n",
        "\n",
        "print(cm)\n",
        "\n",
        "plt.figure(figsize=(10, 7))\n",
        "sns.set_context(\"talk\")\n",
        "sns.heatmap(cm, annot=True, fmt='g', cmap='Blues')\n",
        "plt.xlabel('Predicted labels')\n",
        "plt.ylabel('True labels')\n",
        "plt.title('Transfor Encoder Confusion Matrix')\n",
        "plt.show()"
      ]
    }
  ],
  "metadata": {
    "colab": {
      "collapsed_sections": [
        "2tR3KVr_XOla",
        "6flRymdaIf0n",
        "ONEAlbLbnZlm"
      ],
      "provenance": [],
      "gpuType": "T4"
    },
    "kernelspec": {
      "display_name": "Python 3",
      "name": "python3"
    },
    "language_info": {
      "name": "python"
    },
    "accelerator": "GPU"
  },
  "nbformat": 4,
  "nbformat_minor": 0
}